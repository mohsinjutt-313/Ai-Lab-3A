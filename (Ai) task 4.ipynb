{
 "cells": [
  {
   "cell_type": "code",
   "execution_count": 1,
   "id": "5a170c1a",
   "metadata": {},
   "outputs": [
    {
     "name": "stdout",
     "output_type": "stream",
     "text": [
      "Original Sentence: mohsin ali\n",
      "ASCII Sorted Sentence: ali mohsin\n"
     ]
    }
   ],
   "source": [
    "def sort_sentence_ascii(sentence):\n",
    "    words = sentence.split()\n",
    "    n = len(words)\n",
    "    for i in range(n):\n",
    "        for j in range(0, n - i - 1):\n",
    "            if words[j] > words[j + 1]:   \n",
    "                words[j], words[j + 1] = words[j + 1], words[j]\n",
    "\n",
    "    return \" \".join(words)\n",
    "\n",
    "\n",
    "sentence = \"mohsin ali\"\n",
    "sorted_sentence = sort_sentence_ascii(sentence)\n",
    "print(\"Original Sentence:\", sentence)\n",
    "print(\"ASCII Sorted Sentence:\", sorted_sentence)"
   ]
  },
  {
   "cell_type": "code",
   "execution_count": 3,
   "id": "aa7d8067",
   "metadata": {},
   "outputs": [
    {
     "name": "stdout",
     "output_type": "stream",
     "text": [
      "Original Sentence: bye take care \n",
      "ASCII Dictionary Sorted Sentence: bye care take\n"
     ]
    }
   ],
   "source": [
    "def ascii_dictionary_sort(sentence):\n",
    "    words = sentence.split()\n",
    "    n = len(words)\n",
    "    for i in range(n):\n",
    "        min_index = i\n",
    "        for j in range(i + 1, n):\n",
    "            if words[j] < words[min_index]:\n",
    "                min_index = j\n",
    "\n",
    "        words[i], words[min_index] = words[min_index], words[i]\n",
    "\n",
    "    return \" \".join(words)\n",
    "\n",
    "sentence = \"bye take care \"\n",
    "sorted_sentence = ascii_dictionary_sort(sentence)\n",
    "print(\"Original Sentence:\", sentence)\n",
    "print(\"ASCII Dictionary Sorted Sentence:\", sorted_sentence)"
   ]
  },
  {
   "cell_type": "code",
   "execution_count": 5,
   "id": "0c7fae0b",
   "metadata": {},
   "outputs": [
    {
     "name": "stdout",
     "output_type": "stream",
     "text": [
      "Original Sentence: monkey\n",
      "ASCII Sorted Characters: ekmnoy\n"
     ]
    }
   ],
   "source": [
    "def ascii_char_sort(sentence):\n",
    "    chars = list(sentence)  \n",
    "    n = len(chars)\n",
    "\n",
    "    for i in range(n):\n",
    "        for j in range(0, n - i - 1):\n",
    "            if chars[j] > chars[j + 1]:\n",
    "                chars[j], chars[j + 1] = chars[j + 1], chars[j]\n",
    "\n",
    "    return \"\".join(chars)\n",
    "\n",
    "sentence = \"monkey\"\n",
    "sorted_sentence = ascii_char_sort(sentence)\n",
    "print(\"Original Sentence:\", sentence)\n",
    "print(\"ASCII Sorted Characters:\", sorted_sentence)"
   ]
  }
 ],
 "metadata": {
  "kernelspec": {
   "display_name": "base",
   "language": "python",
   "name": "python3"
  },
  "language_info": {
   "codemirror_mode": {
    "name": "ipython",
    "version": 3
   },
   "file_extension": ".py",
   "mimetype": "text/x-python",
   "name": "python",
   "nbconvert_exporter": "python",
   "pygments_lexer": "ipython3",
   "version": "3.12.4"
  }
 },
 "nbformat": 4,
 "nbformat_minor": 5
}
